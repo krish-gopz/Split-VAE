{
  "nbformat": 4,
  "nbformat_minor": 0,
  "metadata": {
    "colab": {
      "name": "Run_tensorboard.ipynb",
      "provenance": [],
      "collapsed_sections": []
    },
    "kernelspec": {
      "name": "python3",
      "display_name": "Python 3"
    }
  },
  "cells": [
    {
      "cell_type": "code",
      "metadata": {
        "id": "YWFB8eIovG87",
        "colab_type": "code",
        "colab": {}
      },
      "source": [
        "from google.colab import drive\n",
        "drive.mount('/content/drive')"
      ],
      "execution_count": 0,
      "outputs": []
    },
    {
      "cell_type": "code",
      "metadata": {
        "id": "p-sZTaAwxmzE",
        "colab_type": "code",
        "outputId": "7444fdd8-1056-4eea-dbbe-ec03bdf0742b",
        "colab": {
          "base_uri": "https://localhost:8080/",
          "height": 821
        }
      },
      "source": [
        "# Run Data for Beta_VAE with 32 latents and beta=15\n",
        "\n",
        "import os\n",
        "parameters1_drive = {'start_fresh'       : False,\n",
        "              'train'             : True,\n",
        "              'use_cuda'          : True,\n",
        "              'seed'              : 1,\n",
        "              'max_iter'          : 1.5e6,\n",
        "              'z_dim'             : 32,\n",
        "              'beta'              : 15,\n",
        "              'model'             : 'H',\n",
        "              'objective'         : 'H',\n",
        "              'lr'                : 1e-4,\n",
        "              'beta1'             : 0.9,\n",
        "              'beta2'             : 0.999,\n",
        "              'ckpt_dir'          : 'drive/My Drive/ECE697/checkpoints',\n",
        "              'tensorboard_dir'   : 'drive/My Drive/ECE697/tnsrbrd_runs',\n",
        "              'project_name'      : 'celeba_H_split_beta10_z8_plus_2',\n",
        "              'ckpt_name'         : 'last',\n",
        "              'save_output'       : True,\n",
        "              'output_dir'        : 'drive/My Drive/ECE697/outputs',\n",
        "              'gather_step'       : 1000,\n",
        "              'display_step'      : 10000,\n",
        "              'save_step'         : 10000,\n",
        "              'dset_dir'          : 'data',\n",
        "              'dataset'           : 'CelebA',\n",
        "              'batch_size'        : 64,\n",
        "              'num_workers'       : 2,\n",
        "              'image_size'        : 64,\n",
        "              'viz_on'            : True\n",
        "              }\n",
        "\n",
        "parameters = parameters1_drive\n",
        "%load_ext tensorboard\n",
        "%tensorboard --logdir {'\"'+os.path.join(parameters['tensorboard_dir'], parameters['project_name'])+'\"'}"
      ],
      "execution_count": 0,
      "outputs": []
    }
  ]
}